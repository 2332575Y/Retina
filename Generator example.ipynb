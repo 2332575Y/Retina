{
 "cells": [
  {
   "cell_type": "code",
   "execution_count": 1,
   "metadata": {},
   "outputs": [],
   "source": [
    "from generator import *"
   ]
  },
  {
   "cell_type": "code",
   "execution_count": 2,
   "metadata": {},
   "outputs": [],
   "source": [
    "packRetina = True\n",
    "if packRetina:\n",
    "    G = layerGenerator('Retina')\n",
    "    G.loadLocations()\n",
    "    G.loadCoefficients()\n",
    "    G.quantization_bits = 16\n",
    "    G.packPixels()\n",
    "    G.save('retina_layers.pkl')"
   ]
  },
  {
   "cell_type": "code",
   "execution_count": 3,
   "metadata": {},
   "outputs": [],
   "source": [
    "packCortex = True\n",
    "if packCortex:\n",
    "    #Left Path\n",
    "    L = layerGenerator('Cortex')\n",
    "    L.loadLocations()\n",
    "    L.loadCoefficients()\n",
    "    L.quantization_bits = 16\n",
    "    #Right Path\n",
    "    R = layerGenerator('Cortex')\n",
    "    R.loadLocations()\n",
    "    R.loadCoefficients()\n",
    "    R.quantization_bits = 16\n",
    "    \n",
    "    Rwidth = int(R.locs[:,0].max() + R.locs[:,6].max()/2)\n",
    "    Lwidth = int(L.locs[:,0].max() + L.locs[:,6].max()/2)\n",
    "    Rheight = int(R.locs[:,1].max() + R.locs[:,6].max()/2)\n",
    "    Lheight = int(L.locs[:,1].max() + L.locs[:,6].max()/2)\n",
    "    \n",
    "    hemishape = (max(Rheight, Lheight), max(Rwidth, Lwidth))\n",
    "    \n",
    "    L.size = np.array(hemishape, dtype='int32')\n",
    "    R.size = np.array(hemishape, dtype='int32')\n",
    "    \n",
    "    L.packPixels()\n",
    "    L.save('left_path.pkl')\n",
    "    R.packPixels()\n",
    "    R.save('right_path.pkl')"
   ]
  }
 ],
 "metadata": {
  "kernelspec": {
   "display_name": "Python 3",
   "language": "python",
   "name": "python3"
  },
  "language_info": {
   "codemirror_mode": {
    "name": "ipython",
    "version": 3
   },
   "file_extension": ".py",
   "mimetype": "text/x-python",
   "name": "python",
   "nbconvert_exporter": "python",
   "pygments_lexer": "ipython3",
   "version": "3.7.5"
  }
 },
 "nbformat": 4,
 "nbformat_minor": 4
}
