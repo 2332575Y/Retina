{
 "cells": [
  {
   "cell_type": "code",
   "execution_count": 1,
   "metadata": {},
   "outputs": [
    {
     "ename": "FileNotFoundError",
     "evalue": "[Errno 2] No such file or directory: 'types.pkl'",
     "output_type": "error",
     "traceback": [
      "\u001b[1;31m---------------------------------------------------------------------------\u001b[0m",
      "\u001b[1;31mFileNotFoundError\u001b[0m                         Traceback (most recent call last)",
      "\u001b[1;32m<ipython-input-1-5ede066d9a7c>\u001b[0m in \u001b[0;36m<module>\u001b[1;34m\u001b[0m\n\u001b[0;32m     59\u001b[0m \u001b[0mcoeff_bits\u001b[0m \u001b[1;33m=\u001b[0m \u001b[1;36m8\u001b[0m\u001b[1;33m\u001b[0m\u001b[1;33m\u001b[0m\u001b[0m\n\u001b[0;32m     60\u001b[0m \u001b[1;33m\u001b[0m\u001b[0m\n\u001b[1;32m---> 61\u001b[1;33m \u001b[0mtypes\u001b[0m \u001b[1;33m=\u001b[0m \u001b[0mpickle\u001b[0m\u001b[1;33m.\u001b[0m\u001b[0mload\u001b[0m\u001b[1;33m(\u001b[0m\u001b[0mopen\u001b[0m\u001b[1;33m(\u001b[0m\u001b[1;34m\"types.pkl\"\u001b[0m\u001b[1;33m,\u001b[0m \u001b[1;34m\"rb\"\u001b[0m\u001b[1;33m)\u001b[0m\u001b[1;33m)\u001b[0m\u001b[1;33m\u001b[0m\u001b[1;33m\u001b[0m\u001b[0m\n\u001b[0m\u001b[0;32m     62\u001b[0m \u001b[1;33m\u001b[0m\u001b[0m\n\u001b[0;32m     63\u001b[0m \u001b[0mgenerateLayers\u001b[0m \u001b[1;33m=\u001b[0m \u001b[1;32mTrue\u001b[0m\u001b[1;33m\u001b[0m\u001b[1;33m\u001b[0m\u001b[0m\n",
      "\u001b[1;31mFileNotFoundError\u001b[0m: [Errno 2] No such file or directory: 'types.pkl'"
     ]
    }
   ],
   "source": [
    "import cv2\n",
    "import time\n",
    "import pickle\n",
    "import skimage.io\n",
    "import numpy as np\n",
    "import tkinter as tk\n",
    "from functions import *\n",
    "from tkinter import *\n",
    "from matplotlib import pyplot as plt\n",
    "from tkinter import filedialog as fd\n",
    "from tkinter import messagebox as mb\n",
    "\n",
    "def packPixels():\n",
    "    overlapCounter = np.zeros((h,w),dtype='uint8')\n",
    "    for idx in range(len(locs)):\n",
    "        size = int(locs[idx][6])\n",
    "        offset = size/2.0\n",
    "        x , y = np.round(locs[idx][:2])\n",
    "        x1,y1,x2,y2 = int(x-offset),int(y-offset),int(x+offset),int(y+offset)\n",
    "        overlapCounter[y1:y2,x1:x2] += 1\n",
    "    nLayers = np.max(overlapCounter)\n",
    "    coeff_layers = []\n",
    "    [coeff_layers.append(np.zeros((h,w))) for i in range(nLayers)]\n",
    "    index_layers = []\n",
    "    [index_layers.append(np.zeros((h,w))) for i in range(nLayers)]\n",
    "    for idx in range(len(locs)):\n",
    "        values = coeffs[idx]\n",
    "        size = int(locs[idx][6])\n",
    "        offset = size/2.0\n",
    "        x , y = np.round(locs[idx][:2])\n",
    "        pixelCoords = [(int(x+i-offset), int(y+j-offset), values[j,i]) for j in range(size) for i in range(size)]\n",
    "        for coord in pixelCoords:\n",
    "            a , b , c = coord\n",
    "            for i in range(nLayers):\n",
    "                if coeff_layers[i][b,a] == 0:\n",
    "                    coeff_layers[i][b,a] = c\n",
    "                    index_layers[i][b,a] = idx+1\n",
    "                    break\n",
    "    scaling_factor = ((2**coeff_bits)-1) / np.max(coeff_layers)\n",
    "    for i in range(len(coeff_layers)):\n",
    "        coeff_layers[i] = (coeff_layers[i]*scaling_factor).astype(numpy_type[types[COEFFICIENTS]])\n",
    "        index_layers[i] = index_layers[i].astype(numpy_type[types[INDEX]])\n",
    "    return coeff_layers,index_layers\n",
    "\n",
    "def packKernels():\n",
    "    pass\n",
    "\n",
    "numpy_type = {\n",
    "    'unsigned char': 'uint8',\n",
    "    'unsigned short': 'uint16',\n",
    "    'unsigned int': 'uint32',\n",
    "    'unsigned long long': 'uint64'\n",
    "}\n",
    "\n",
    "coeffs = np.squeeze(pickle.load(open(\"8k_coeff.pkl\", \"rb\" ), encoding='latin1'))\n",
    "locs = pickle.load(open(\"8k_loc.pkl\", \"rb\" ), encoding='latin1')\n",
    "w = 2*int(np.max(np.abs(locs[:,0])) + np.max(locs[:,6]//2)+1)\n",
    "h = 2*int(np.max(np.abs(locs[:,1])) + np.max(locs[:,6]//2)+1)\n",
    "coeff_bits = 8\n",
    "\n",
    "types = pickle.load(open(\"types.pkl\", \"rb\"))\n",
    "\n",
    "generateLayers = True\n",
    "method = packPixels\n",
    "\n",
    "if generateLayers:\n",
    "    coeff_layers,index_layers = method()\n",
    "    pickle.dump((coeff_layers,index_layers,len(locs)+1), open(\"layers.pkl\", \"wb\"))\n",
    "else:\n",
    "    coeff_layers,index_layers, idx = pickle.load(open(\"layers.pkl\", \"rb\"))"
   ]
  }
 ],
 "metadata": {
  "kernelspec": {
   "display_name": "Python 3",
   "language": "python",
   "name": "python3"
  },
  "language_info": {
   "codemirror_mode": {
    "name": "ipython",
    "version": 3
   },
   "file_extension": ".py",
   "mimetype": "text/x-python",
   "name": "python",
   "nbconvert_exporter": "python",
   "pygments_lexer": "ipython3",
   "version": "3.7.5"
  }
 },
 "nbformat": 4,
 "nbformat_minor": 4
}
