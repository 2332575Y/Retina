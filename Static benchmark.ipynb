{
 "cells": [
  {
   "cell_type": "code",
   "execution_count": 1,
   "metadata": {},
   "outputs": [],
   "source": [
    "import os\n",
    "import cv2\n",
    "import time\n",
    "import pickle\n",
    "import skimage.io\n",
    "import numpy as np\n",
    "import tkinter as tk\n",
    "from functions import *\n",
    "from tkinter import *\n",
    "from matplotlib import pyplot as plt\n",
    "from tkinter import filedialog as fd\n",
    "from tkinter import messagebox as mb\n",
    "from concurrent.futures import ThreadPoolExecutor\n",
    "\n",
    "def format_result(times):\n",
    "    suffix = ['nS', 'µS','mS','S']\n",
    "    mean=np.mean(times)\n",
    "    std=np.std(times)\n",
    "    s1=int(np.log(mean) / np.log(1000))\n",
    "    s2=int(np.log(std) / np.log(1000))\n",
    "    if s1>3:\n",
    "        s1=3\n",
    "    if s2>3:\n",
    "        s2=3\n",
    "    mean /= 1000**s1\n",
    "    std /= 1000**s2\n",
    "    return ('%.2f%s ± %.1f%s per loop (%i runs)'%(mean, suffix[s1], std, suffix[s2], len(times)))\n",
    "\n",
    "def bench(fn,nLoops,timeout=10,fmt=True):\n",
    "    times = []\n",
    "    initial = time.time()\n",
    "    while len(times)<nLoops and time.time()-initial < timeout:\n",
    "        start = time.time_ns()\n",
    "        fn()\n",
    "        end = time.time_ns()\n",
    "        times.append(end-start)\n",
    "    if fmt:\n",
    "        return format_result(times)\n",
    "    else:\n",
    "        return (np.mean(times),np.std(times),len(times))\n",
    "\n",
    "def packPixels():\n",
    "    overlapCounter = np.zeros((h,w),dtype='uint8')\n",
    "    for idx in range(len(locs)):\n",
    "        size = int(locs[idx][6])\n",
    "        offset = size/2.0\n",
    "        x , y = np.round(locs[idx][:2])\n",
    "        x1,y1,x2,y2 = int(x-offset),int(y-offset),int(x+offset),int(y+offset)\n",
    "        overlapCounter[y1:y2,x1:x2] += 1\n",
    "    nLayers = np.max(overlapCounter)\n",
    "    coeff_layers = []\n",
    "    [coeff_layers.append(np.zeros((h,w))) for i in range(nLayers)]\n",
    "    index_layers = []\n",
    "    [index_layers.append(np.zeros((h,w))) for i in range(nLayers)]\n",
    "    for idx in range(len(locs)):\n",
    "        values = coeffs[idx]\n",
    "        size = int(locs[idx][6])\n",
    "        offset = size/2.0\n",
    "        x , y = np.round(locs[idx][:2])\n",
    "        pixelCoords = [(int(x+i-offset), int(y+j-offset), values[j,i]) for j in range(size) for i in range(size)]\n",
    "        for coord in pixelCoords:\n",
    "            a , b , c = coord\n",
    "            for i in range(nLayers):\n",
    "                if coeff_layers[i][b,a] == 0:\n",
    "                    coeff_layers[i][b,a] = c\n",
    "                    index_layers[i][b,a] = idx+1\n",
    "                    break\n",
    "    scaling_factor = ((2**coeff_bits)-1) / np.max(coeff_layers)\n",
    "    for i in range(len(coeff_layers)):\n",
    "        coeff_layers[i] = (coeff_layers[i]*scaling_factor).astype(numpy_type[types['COEFFICIENTS']])#.flatten()\n",
    "        index_layers[i] = index_layers[i].astype(numpy_type[types['INDEX']])#.flatten()\n",
    "    return coeff_layers,index_layers\n",
    "\n",
    "def packKernels():\n",
    "    pass\n",
    "\n",
    "numpy_type = {\n",
    "    'unsigned char': 'uint8',\n",
    "    'unsigned short': 'uint16',\n",
    "    'unsigned long': 'uint32',\n",
    "    'unsigned long long': 'uint64'\n",
    "}\n",
    "\n",
    "types = pickle.load(open(\"types.pkl\", \"rb\"))\n",
    "coeffs = np.squeeze(pickle.load(open(\"50k_coeff.pkl\", \"rb\" ), encoding='latin1'))\n",
    "locs = pickle.load(open(\"50k_loc.pkl\", \"rb\" ), encoding='latin1')\n",
    "w = 2*int(np.max(np.abs(locs[:,0])) + np.max(locs[:,6]//2)+1)\n",
    "h = 2*int(np.max(np.abs(locs[:,1])) + np.max(locs[:,6]//2)+1)\n",
    "coeff_bits = 16\n",
    "\n",
    "img = skimage.io.imread('dock.jpg')\n",
    "img_gray = cv2.cvtColor(img, cv2.COLOR_RGB2GRAY)\n",
    "\n",
    "generateLayers = True\n",
    "method = packPixels\n",
    "\n",
    "if generateLayers:\n",
    "    coeff_layers,index_layers = method()\n",
    "    idx = len(locs)+1\n",
    "    pickle.dump((coeff_layers,index_layers,idx), open(\"layers.pkl\", \"wb\"))\n",
    "else:\n",
    "    coeff_layers,index_layers, idx = pickle.load(open(\"layers.pkl\", \"rb\"))\n",
    "    \n",
    "result = np.zeros(idx, dtype=numpy_type[types['RESULTS']])"
   ]
  },
  {
   "cell_type": "code",
   "execution_count": 2,
   "metadata": {},
   "outputs": [],
   "source": [
    "def sample_manualThread(img,Ncores=1):\n",
    "    img_flat = img[y1:y2, x1:x2].reshape(h*w)\n",
    "    zeros_int32(result)\n",
    "    for i in range(len(coeff_layers)):\n",
    "        with ThreadPoolExecutor(max_workers=Ncores) as executor:\n",
    "            img_array = np.array_split(img_flat,Ncores)\n",
    "            coeff_array = np.array_split(coeff_layers[i],Ncores)\n",
    "            index_array = np.array_split(index_layers[i],Ncores)\n",
    "            jobs = [executor.submit(sample, img_array[x], coeff_array[x], index_array[x], result) for x in range(Ncores)]\n",
    "            \n",
    "def sample_prangeThread(img,Ncores=1):\n",
    "    img_flat = img[y1:y2, x1:x2].reshape(h*w)\n",
    "    zeros_int32(result)\n",
    "    for i in range(len(coeff_layers)):\n",
    "        sample_parallel(img_flat, coeff_layers[i], index_layers[i], result, Ncores)\n",
    "\n",
    "def noThreads(img):\n",
    "    img_flat = img[y1:y2, x1:x2].reshape(h*w)\n",
    "    zeros_int32(result)\n",
    "    for i in range(len(coeff_layers)):\n",
    "        sample(img_flat, coeff_layers[i], index_layers[i], result)"
   ]
  },
  {
   "cell_type": "code",
   "execution_count": 3,
   "metadata": {},
   "outputs": [
    {
     "name": "stdout",
     "output_type": "stream",
     "text": [
      "Manual threads:\n",
      "1 Thread(s): 22.80mS ± 1.2mS per loop (439 runs)\n",
      "2 Thread(s): 17.87mS ± 1.6mS per loop (560 runs)\n",
      "3 Thread(s): 19.69mS ± 1.6mS per loop (508 runs)\n",
      "4 Thread(s): 20.99mS ± 1.7mS per loop (477 runs)\n",
      "5 Thread(s): 22.56mS ± 1.6mS per loop (444 runs)\n",
      "6 Thread(s): 26.17mS ± 2.4mS per loop (383 runs)\n",
      "7 Thread(s): 29.23mS ± 1.4mS per loop (343 runs)\n",
      "8 Thread(s): 33.81mS ± 2.9mS per loop (296 runs)\n",
      "####################################################################################################\n",
      "Automatic threads:\n",
      "1 Thread(s): 23.62mS ± 2.3mS per loop (424 runs)\n",
      "2 Thread(s): 18.09mS ± 1.6mS per loop (553 runs)\n",
      "3 Thread(s): 19.93mS ± 1.9mS per loop (502 runs)\n",
      "4 Thread(s): 20.58mS ± 1.8mS per loop (486 runs)\n",
      "5 Thread(s): 23.06mS ± 2.2mS per loop (434 runs)\n",
      "6 Thread(s): 25.71mS ± 1.5mS per loop (389 runs)\n",
      "7 Thread(s): 29.12mS ± 1.6mS per loop (344 runs)\n",
      "8 Thread(s): 33.70mS ± 2.6mS per loop (297 runs)\n",
      "####################################################################################################\n",
      "No threading:\n",
      "15.62mS ± 964.8µS per loop (640 runs)\n"
     ]
    }
   ],
   "source": [
    "y, x = 1080//2, 1920//2\n",
    "x1, y1, x2, y2 = int(x-(w//2)), int(y-(h//2)), int(x+(w//2)), int(y+(h//2))\n",
    "\n",
    "print(\"Manual threads:\")\n",
    "for i in range(os.cpu_count()):\n",
    "    print(\"%i Thread(s): %s\"%(i+1,bench(lambda:sample_manualThread(img_gray,i+1),1000)))\n",
    "print('#'*100)\n",
    "print(\"Automatic threads:\")\n",
    "for i in range(os.cpu_count()):\n",
    "    print(\"%i Thread(s): %s\"%(i+1,bench(lambda:sample_manualThread(img_gray,i+1),1000)))\n",
    "print('#'*100)\n",
    "print(\"No threading:\")\n",
    "print(bench(lambda:noThreads(img_gray),1000))"
   ]
  },
  {
   "cell_type": "code",
   "execution_count": 5,
   "metadata": {},
   "outputs": [
    {
     "name": "stdout",
     "output_type": "stream",
     "text": [
      "0 0 928 928\n"
     ]
    }
   ],
   "source": [
    "resolution = np.array([1080,1920], dtype='int32')\n",
    "retina_size = np.array([928,928], dtype='int32')\n",
    "fixation = np.array([1920/2,1080/2], dtype='int32')\n",
    "img_x1, img_y1, img_x2, img_y2, ret_x1, ret_y1, ret_x2, ret_y2 = get_bounds(resolution, retina_size, fixation)\n",
    "print(ret_x1, ret_y1, ret_x2, ret_y2)"
   ]
  },
  {
   "cell_type": "code",
   "execution_count": 3,
   "metadata": {},
   "outputs": [
    {
     "name": "stdout",
     "output_type": "stream",
     "text": [
      "2.8 µs ± 105 ns per loop (mean ± std. dev. of 7 runs, 100000 loops each)\n"
     ]
    }
   ],
   "source": [
    "%%timeit\n",
    "img_x1, img_y1, img_x2, img_y2, ret_x1, ret_y1, ret_x2, ret_y2 = get_bounds(resolution, retina_size, fixation)"
   ]
  },
  {
   "cell_type": "code",
   "execution_count": 10,
   "metadata": {},
   "outputs": [
    {
     "name": "stdout",
     "output_type": "stream",
     "text": [
      "61.2 µs ± 2.2 µs per loop (mean ± std. dev. of 7 runs, 10000 loops each)\n"
     ]
    }
   ],
   "source": [
    "%%timeit\n",
    "img_gray[img_y1:img_y2, img_x1:img_x2].flatten()"
   ]
  },
  {
   "cell_type": "code",
   "execution_count": 4,
   "metadata": {},
   "outputs": [
    {
     "name": "stdout",
     "output_type": "stream",
     "text": [
      "70.09mS ± 3.3mS per loop (143 runs)\n"
     ]
    }
   ],
   "source": [
    "def dynamic_size(img):\n",
    "    img_flat = img[img_y1:img_y2, img_x1:img_x2].flatten()\n",
    "    zeros_int32(result)\n",
    "    for i in range(len(coeff_layers)):\n",
    "        coeffs = coeff_layers[i][ret_y1:ret_y2, ret_x1:ret_x2].flatten()\n",
    "        indices = index_layers[i][ret_y1:ret_y2, ret_x1:ret_x2].flatten()\n",
    "        sample(img_flat, coeffs, indices, result)\n",
    "        \n",
    "print(bench(lambda:dynamic_size(img_gray), 1000))"
   ]
  }
 ],
 "metadata": {
  "kernelspec": {
   "display_name": "Python 3",
   "language": "python",
   "name": "python3"
  },
  "language_info": {
   "codemirror_mode": {
    "name": "ipython",
    "version": 3
   },
   "file_extension": ".py",
   "mimetype": "text/x-python",
   "name": "python",
   "nbconvert_exporter": "python",
   "pygments_lexer": "ipython3",
   "version": "3.7.5"
  }
 },
 "nbformat": 4,
 "nbformat_minor": 4
}
