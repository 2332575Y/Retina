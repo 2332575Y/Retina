{
 "cells": [
  {
   "cell_type": "code",
   "execution_count": 1,
   "metadata": {
    "scrolled": false
   },
   "outputs": [
    {
     "name": "stdout",
     "output_type": "stream",
     "text": [
      "####################################################################################################\n",
      "cpdef sample_parallel({INPUT}[::1] img_flat, {COEFFICIENTS}[::1] coeffs, {INDEX}[::1] idx, {RESULTS}[::1] result_flat, unsigned int nThreads):\n",
      "\n",
      "Warning: Unwrapped type detected at line 30\n",
      "####################################################################################################\n",
      "    cdef {INDEX} x, index\n",
      "\n",
      "Warning: Unwrapped type detected at line 40\n",
      "####################################################################################################\n",
      "    cdef {INDEX} x, index\n",
      "\n",
      "Warning: Unwrapped type detected at line 63\n",
      "####################################################################################################\n",
      "Compiling ...\n",
      "####################################################################################################\n",
      "Compiling functions.pyx because it changed.\n",
      "[1/1] Cythonizing functions.pyx\n",
      "running build_ext\n",
      "building 'functions' extension\n",
      "C:\\Program Files (x86)\\Microsoft Visual Studio\\2019\\Enterprise\\VC\\Tools\\MSVC\\14.27.29110\\bin\\HostX86\\x64\\cl.exe /c /nologo /Ox /W3 /GL /DNDEBUG /MD -IC:\\Users\\OM222O\\Anaconda3\\include -IC:\\Users\\OM222O\\Anaconda3\\include \"-IC:\\Program Files (x86)\\Microsoft Visual Studio\\2019\\Enterprise\\VC\\Tools\\MSVC\\14.27.29110\\ATLMFC\\include\" \"-IC:\\Program Files (x86)\\Microsoft Visual Studio\\2019\\Enterprise\\VC\\Tools\\MSVC\\14.27.29110\\include\" \"-IC:\\Program Files (x86)\\Windows Kits\\10\\include\\10.0.18362.0\\ucrt\" \"-IC:\\Program Files (x86)\\Windows Kits\\10\\include\\10.0.18362.0\\shared\" \"-IC:\\Program Files (x86)\\Windows Kits\\10\\include\\10.0.18362.0\\um\" \"-IC:\\Program Files (x86)\\Windows Kits\\10\\include\\10.0.18362.0\\winrt\" \"-IC:\\Program Files (x86)\\Windows Kits\\10\\include\\10.0.18362.0\\cppwinrt\" /Tcfunctions.c /Fobuild\\temp.win-amd64-3.7\\Release\\functions.obj\n",
      "functions.c\n",
      "C:\\Program Files (x86)\\Microsoft Visual Studio\\2019\\Enterprise\\VC\\Tools\\MSVC\\14.27.29110\\bin\\HostX86\\x64\\link.exe /nologo /INCREMENTAL:NO /LTCG /DLL /MANIFEST:EMBED,ID=2 /MANIFESTUAC:NO /LIBPATH:C:\\Users\\OM222O\\Anaconda3\\libs /LIBPATH:C:\\Users\\OM222O\\Anaconda3\\PCbuild\\amd64 \"/LIBPATH:C:\\Program Files (x86)\\Microsoft Visual Studio\\2019\\Enterprise\\VC\\Tools\\MSVC\\14.27.29110\\ATLMFC\\lib\\x64\" \"/LIBPATH:C:\\Program Files (x86)\\Microsoft Visual Studio\\2019\\Enterprise\\VC\\Tools\\MSVC\\14.27.29110\\lib\\x64\" \"/LIBPATH:C:\\Program Files (x86)\\Windows Kits\\10\\lib\\10.0.18362.0\\ucrt\\x64\" \"/LIBPATH:C:\\Program Files (x86)\\Windows Kits\\10\\lib\\10.0.18362.0\\um\\x64\" /EXPORT:PyInit_functions build\\temp.win-amd64-3.7\\Release\\functions.obj \"/OUT:C:\\Users\\OM222O\\Desktop\\CPU BASED RETINA\\Github\\Retina\\functions.cp37-win_amd64.pyd\" /IMPLIB:build\\temp.win-amd64-3.7\\Release\\functions.cp37-win_amd64.lib\n",
      "   Creating library build\\temp.win-amd64-3.7\\Release\\functions.cp37-win_amd64.lib and object build\\temp.win-amd64-3.7\\Release\\functions.cp37-win_amd64.exp\n",
      "Generating code\n",
      "Finished generating code\n",
      "\n",
      "####################################################################################################\n",
      "Generating report ...\n",
      "####################################################################################################\n",
      "Compilation finished!\n"
     ]
    }
   ],
   "source": [
    "import pickle\n",
    "import subprocess as proc\n",
    "\n",
    "types = {'INPUT': 'unsigned char',\n",
    "         'COEFFICIENTS': 'unsigned short',\n",
    "         'INDEX': 'unsigned long',\n",
    "         'RESULTS': 'unsigned long long',\n",
    "         'BAKC_PROJECTED': 'unsigned long long',\n",
    "         'NORMALIZED': 'unsigned long long'}\n",
    "\n",
    "pickle.dump(types, open(\"types.pkl\", \"wb\"))\n",
    "\n",
    "def generateCythonCode(verbose = False):\n",
    "    output=[]\n",
    "\n",
    "    with open('cython_template.py', 'r') as f:\n",
    "        i = 1\n",
    "        for line in f:\n",
    "            code = line\n",
    "            if 'def' in code:\n",
    "                if (code.count(',')+1) != code.count('{'):\n",
    "                    print('#'*100)\n",
    "                    print(code)\n",
    "                    print(\"Warning: Unwrapped type detected at line %i\"%i)\n",
    "            for typ in types:\n",
    "                indicator = '{%s}'%typ\n",
    "                if indicator in code:\n",
    "                    code = code.replace(indicator,types[typ])\n",
    "            output.append(code)\n",
    "            i+=1\n",
    "\n",
    "    with open('functions.pyx', 'w') as f:\n",
    "        f.write(''.join(output))\n",
    "        \n",
    "    if verbose:\n",
    "        print(''.join(output))\n",
    "\n",
    "def compileCythonCode():\n",
    "    print(\"#\"*100)\n",
    "    print(\"Compiling ...\")\n",
    "    print(\"#\"*100)\n",
    "    p1 = proc.run('python setupFinal.py build_ext --inplace', shell=True, capture_output=True)\n",
    "    print(p1.stdout.decode())\n",
    "    if 'Finished generating code' in p1.stdout.decode():\n",
    "        print(\"#\"*100)\n",
    "        print(\"Generating report ...\")\n",
    "        print(\"#\"*100)\n",
    "        p2 = proc.run('cython -a functions.pyx', shell=True, capture_output=True)\n",
    "        print(\"Compilation finished!\")\n",
    "        \n",
    "generateCythonCode()\n",
    "compileCythonCode()"
   ]
  }
 ],
 "metadata": {
  "kernelspec": {
   "display_name": "Python 3",
   "language": "python",
   "name": "python3"
  },
  "language_info": {
   "codemirror_mode": {
    "name": "ipython",
    "version": 3
   },
   "file_extension": ".py",
   "mimetype": "text/x-python",
   "name": "python",
   "nbconvert_exporter": "python",
   "pygments_lexer": "ipython3",
   "version": "3.7.5"
  }
 },
 "nbformat": 4,
 "nbformat_minor": 4
}
