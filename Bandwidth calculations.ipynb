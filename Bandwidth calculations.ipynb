{
 "cells": [
  {
   "cell_type": "code",
   "execution_count": 1,
   "metadata": {},
   "outputs": [],
   "source": [
    "import pickle\n",
    "import numpy as np\n",
    "from helpers import *\n",
    "\n",
    "fname_locs = 'data/retinas/50K/ret50k_loc.pkl'\n",
    "fname_coeffs = 'data/retinas/50K/ret50k_coeff.pkl'\n",
    "previous_retina = 'retina_layers.pkl'\n",
    "\n",
    "with open(fname_locs, \"rb\") as f:\n",
    "    locs = pickle.load(f, encoding='latin1')\n",
    "\n",
    "with open(fname_coeffs, \"rb\") as f:\n",
    "    coeffs = np.squeeze(pickle.load(f, encoding='latin1'))\n",
    "    \n",
    "ret_coeff_layers, ret_index_layers, _ = loadPickle(previous_retina)"
   ]
  },
  {
   "cell_type": "code",
   "execution_count": 2,
   "metadata": {},
   "outputs": [
    {
     "name": "stdout",
     "output_type": "stream",
     "text": [
      "Total number of coefficients: 4706878\n",
      "Total number of storage elements required: 9463756\n",
      "Total number of storage elements previously required: 22294376\n",
      "Previous method used 235% more storage\n"
     ]
    }
   ],
   "source": [
    "numCoeffs = np.sum(locs[:,-1]**2)\n",
    "total_storage = 2*numCoeffs + len(coeffs)\n",
    "ret_size = ret_coeff_layers[0].shape\n",
    "ret_layers = len(ret_coeff_layers)\n",
    "previous_total_storage = 2*(ret_size[0]*ret_size[1])*ret_layers\n",
    "\n",
    "print(\"Total number of coefficients: %i\" %numCoeffs)\n",
    "print(\"Total number of storage elements required: %i\" %total_storage)\n",
    "print(\"Total number of storage elements previously required: %i\" %previous_total_storage)\n",
    "print(\"Previous method used %i%% more storage\" %(100*previous_total_storage/total_storage))"
   ]
  }
 ],
 "metadata": {
  "kernelspec": {
   "display_name": "Python 3",
   "language": "python",
   "name": "python3"
  },
  "language_info": {
   "codemirror_mode": {
    "name": "ipython",
    "version": 3
   },
   "file_extension": ".py",
   "mimetype": "text/x-python",
   "name": "python",
   "nbconvert_exporter": "python",
   "pygments_lexer": "ipython3",
   "version": "3.7.5"
  }
 },
 "nbformat": 4,
 "nbformat_minor": 4
}
